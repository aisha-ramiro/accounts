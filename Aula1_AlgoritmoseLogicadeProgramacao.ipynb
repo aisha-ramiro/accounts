{
  "nbformat": 4,
  "nbformat_minor": 0,
  "metadata": {
    "colab": {
      "provenance": [],
      "authorship_tag": "ABX9TyNBGaBa3jYBcfQxVUo8WbRl",
      "include_colab_link": true
    },
    "kernelspec": {
      "name": "python3",
      "display_name": "Python 3"
    },
    "language_info": {
      "name": "python"
    }
  },
  "cells": [
    {
      "cell_type": "markdown",
      "metadata": {
        "id": "view-in-github",
        "colab_type": "text"
      },
      "source": [
        "<a href=\"https://colab.research.google.com/github/aisha-ramiro/accounts/blob/main/Aula1_AlgoritmoseLogicadeProgramacao.ipynb\" target=\"_parent\"><img src=\"https://colab.research.google.com/assets/colab-badge.svg\" alt=\"Open In Colab\"/></a>"
      ]
    },
    {
      "cell_type": "code",
      "execution_count": 5,
      "metadata": {
        "colab": {
          "base_uri": "https://localhost:8080/"
        },
        "id": "8T0npwBwotoz",
        "outputId": "296da86f-3a90-4c58-933d-f06badfa5ce4"
      },
      "outputs": [
        {
          "output_type": "stream",
          "name": "stdout",
          "text": [
            "Olá, Mundo!\n"
          ]
        }
      ],
      "source": [
        "# o print mostra mensagens na saída padrão\n",
        "# neste caso, o print exibirá na tela a\n",
        "# frase \"Olá, Mundo!\"\n",
        "print('Olá, Mundo!')"
      ]
    },
    {
      "cell_type": "code",
      "source": [
        "# Atividade\n",
        "# 1) Exiba 3 mensagens além de Olá Mundo!\n",
        "# Dica: coloque 3 linhas com o print\n",
        "\n",
        "print('Olá, Mundo!')\n",
        "print('Aqui quem fala é a Aisha')\n",
        "print('Dizem os boatos que não imprimir o famoso Olá Mundo primeiro dá azar')\n",
        "print('Melhor não arriscar, não é?')"
      ],
      "metadata": {
        "colab": {
          "base_uri": "https://localhost:8080/"
        },
        "id": "Se8sNDpdqPuQ",
        "outputId": "56934eb5-8156-487e-a4fd-f6673adfa40f"
      },
      "execution_count": 7,
      "outputs": [
        {
          "output_type": "stream",
          "name": "stdout",
          "text": [
            "Olá, Mundo!\n",
            "Aqui quem fala é a Aisha\n",
            "Dizem os boatos que não imprimir o famoso Olá Mundo primeiro dá azar\n",
            "Melhor não arriscar, não é?\n"
          ]
        }
      ]
    },
    {
      "cell_type": "code",
      "source": [
        "# o input lê do usuário um valor e armazena na variável\n",
        "nome = input('Digite seu nome')\n",
        "# o print irá mostrar a palavra Olá, depois o nome e depois o !\n",
        "print('Olá, ' + nome + '!')"
      ],
      "metadata": {
        "colab": {
          "base_uri": "https://localhost:8080/"
        },
        "id": "trHNeNptrleP",
        "outputId": "f7be2f82-d623-4a58-8246-f7167038188f"
      },
      "execution_count": 11,
      "outputs": [
        {
          "output_type": "stream",
          "name": "stdout",
          "text": [
            "Digite seu nomeGabriele\n",
            "Olá, Gabriele!\n"
          ]
        }
      ]
    },
    {
      "cell_type": "code",
      "source": [
        "#2) Amplie o exemplo anterior para que seja perguntado também a\n",
        "# idade do usuário. Utilize uma variável chamada idade.\n",
        "# Utilize o input e print para nome\n",
        "# Utilize o input e print para nome\n",
        "\n",
        "nome = input('Digite o seu nome: ')\n",
        "idade = input('Digite a sua idade: ')\n",
        "\n",
        "print('O(a) paciente ' + nome + ' tem ' + idade + ' anos.')"
      ],
      "metadata": {
        "colab": {
          "base_uri": "https://localhost:8080/"
        },
        "id": "NL2Mh-3pyfSJ",
        "outputId": "33e4f56c-1f29-452d-f896-a43965cc2e22"
      },
      "execution_count": 14,
      "outputs": [
        {
          "output_type": "stream",
          "name": "stdout",
          "text": [
            "Digite o seu nome: Aisha\n",
            "Digite a sua idade: 23\n",
            "O(a) paciente Aisha tem 23 anos.\n"
          ]
        }
      ]
    },
    {
      "cell_type": "code",
      "source": [],
      "metadata": {
        "id": "NhkP9fnFym23"
      },
      "execution_count": null,
      "outputs": []
    }
  ]
}